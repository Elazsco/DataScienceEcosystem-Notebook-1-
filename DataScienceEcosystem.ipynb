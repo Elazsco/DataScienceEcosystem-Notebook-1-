{
 "cells": [
  {
   "cell_type": "markdown",
   "id": "61bd1d7f-837e-4008-be22-c429db47c8d9",
   "metadata": {
    "tags": []
   },
   "source": [
    "# Data Science Tools and Ecosystem"
   ]
  },
  {
   "cell_type": "markdown",
   "id": "bddb97c8-14ea-4b33-8882-fcce3e1b1dc7",
   "metadata": {},
   "source": [
    "## In this notebook, Data Science Tools and Ecosystem are summarized."
   ]
  },
  {
   "cell_type": "markdown",
   "id": "29a972ff-8ce2-40a6-b5ab-e6b8f182fcd3",
   "metadata": {
    "tags": []
   },
   "source": [
    "## **Objectives:**\n",
    "- List Popular Languages for Data Science\n",
    "- Commonly used libraries for Data Science\n",
    "- Data Science Tools\n",
    "- Evaluating Arithmetic expressions in Python\n",
    "- Understanding and using Jupyter Notebooks"
   ]
  },
  {
   "cell_type": "markdown",
   "id": "6e4d4a35-2490-449a-9de0-ecea9151766a",
   "metadata": {
    "tags": []
   },
   "source": [
    "### Some of the popular languages that Data Scientists use are:\n",
    "1. Python\n",
    "2. R\n",
    "3. Scala\n",
    "4. SQL\n",
    "5. Java\n",
    "6. JavaScript\n",
    "7. Julia"
   ]
  },
  {
   "cell_type": "markdown",
   "id": "aa2a3928-172b-462a-b8f9-59138ab60290",
   "metadata": {},
   "source": [
    "### Some of the commonly used libraries used by Data Scientists include: \n",
    "1. ggplot\n",
    "2. Matplotlib\n",
    "3. TensorFlow\n",
    "4. SciKitLearn\n",
    "5. NumPy\n",
    "6. Keras\n",
    "7. Pandas"
   ]
  },
  {
   "cell_type": "markdown",
   "id": "cdbdf1c6-3efd-474e-bcfd-73b5fd5f48f3",
   "metadata": {},
   "source": [
    "| **Data Science Tools** |\n",
    "| ------------------ |\n",
    "|   Data Management  |\n",
    "| Data Integration and Transformation | \n",
    "|   Data Visualization |\n",
    "|    Model Building |"
   ]
  },
  {
   "cell_type": "markdown",
   "id": "81aad4c9-2de4-4c52-8e88-958d15138ace",
   "metadata": {},
   "source": [
    "### Below are a few examples of evaluating arithmetic expressions in Python."
   ]
  },
  {
   "cell_type": "code",
   "execution_count": 10,
   "id": "5dc86853-aa7e-4903-bccf-8de60fc26486",
   "metadata": {
    "tags": []
   },
   "outputs": [
    {
     "name": "stdout",
     "output_type": "stream",
     "text": [
      "17\n"
     ]
    }
   ],
   "source": [
    "## This is a simple arithmetic expression to multiply then add integers. \n",
    "print (3*4+5)"
   ]
  },
  {
   "cell_type": "code",
   "execution_count": 11,
   "id": "ceed40af-66ab-48f6-916c-eaf9773b82f1",
   "metadata": {
    "tags": []
   },
   "outputs": [
    {
     "name": "stdout",
     "output_type": "stream",
     "text": [
      "3.3333333333333335\n"
     ]
    }
   ],
   "source": [
    "## This will convert 200 minutes to hours by dividing by 60. \n",
    "print (200/60)"
   ]
  },
  {
   "cell_type": "markdown",
   "id": "e4ae2378-a01c-408c-ae56-b612ae6ef00d",
   "metadata": {},
   "source": [
    "## Author\n",
    "Edgar S. "
   ]
  },
  {
   "cell_type": "code",
   "execution_count": null,
   "id": "431d0ad3-bd8b-404c-babe-4a18d6973a11",
   "metadata": {},
   "outputs": [],
   "source": []
  }
 ],
 "metadata": {
  "kernelspec": {
   "display_name": "Python",
   "language": "python",
   "name": "conda-env-python-py"
  },
  "language_info": {
   "codemirror_mode": {
    "name": "ipython",
    "version": 3
   },
   "file_extension": ".py",
   "mimetype": "text/x-python",
   "name": "python",
   "nbconvert_exporter": "python",
   "pygments_lexer": "ipython3",
   "version": "3.7.12"
  }
 },
 "nbformat": 4,
 "nbformat_minor": 5
}
